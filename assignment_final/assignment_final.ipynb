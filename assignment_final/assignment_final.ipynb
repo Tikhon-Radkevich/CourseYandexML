{
 "cells": [
  {
   "attachments": {},
   "cell_type": "markdown",
   "metadata": {},
   "source": [
    "## Финальное соревнование\n",
    "\n",
    "##### Автор: [Радослав Нейчев](https://www.linkedin.com/in/radoslav-neychev/), @neychev"
   ]
  },
  {
   "attachments": {},
   "cell_type": "markdown",
   "metadata": {},
   "source": [
    "В данном задании вас ждет неизвестная зависимость. Ваша основная задача: **построить две лучших модели**, минимизирующих среднеквадратичную ошибку (MSE):\n",
    "1. На первую модель не налагается ограничений.\n",
    "2. Вторая модель должна быть **линейной**, т.е. представлять собой линейную комбинацию признаков плюс свободный член: $\\boldsymbol{w}^{\\top}\\boldsymbol{x} + b$. При этом __вы можете использовать базовые математические операции для преобразования признаков__: np.exp, np.log, np.pow (полный список доступен в [документации](https://numpy.org/doc/stable/reference/routines.math.html)), а также линейные операции над ними (сумма, умножение на число и пр.). Для преобразования признаков вам будет необходимо написать функцию `my_transformation`. __Кол-во параметров (весов) используемых второй моделью не должно превышать 15 (включая свободный член).__\n",
    "\n",
    "Настоятельно рекомендуем написать код \"с нуля\", лишь поглядывая на готовые примеры, а не просто \"скопировать-вставить\". Это поможет вам в будущем писать код более уверенно"
   ]
  },
  {
   "cell_type": "code",
   "execution_count": 110,
   "metadata": {
    "ExecuteTime": {
     "end_time": "2023-12-01T18:11:44.805571787Z",
     "start_time": "2023-12-01T18:11:44.704894003Z"
    }
   },
   "outputs": [],
   "source": [
    "import os\n",
    "import json\n",
    "\n",
    "import numpy as np\n",
    "import pandas as pd\n",
    "from matplotlib import pyplot as plt\n",
    "import seaborn as sns\n",
    "from sklearn.linear_model import Ridge\n",
    "from sklearn.ensemble import RandomForestRegressor\n",
    "from sklearn.preprocessing import StandardScaler, MinMaxScaler\n",
    "from sklearn.metrics import mean_squared_error\n",
    "from sklearn.model_selection import train_test_split"
   ]
  },
  {
   "cell_type": "markdown",
   "metadata": {},
   "source": [
    "Загрузка данных происходит ниже. Если она не срабатывает, самостоятельно скачайте файл `hw_final_open_data.npy` и положите его в ту же директорию, что и ноутбук."
   ]
  },
  {
   "cell_type": "code",
   "execution_count": 92,
   "metadata": {
    "ExecuteTime": {
     "end_time": "2023-12-01T18:09:25.232819553Z",
     "start_time": "2023-12-01T18:09:25.207804038Z"
    }
   },
   "outputs": [],
   "source": [
    "# !wget https://raw.githubusercontent.com/girafe-ai/ml-course/23f_yandex_ml_trainings/homeworks/assignment_final/hw_final_open_data.npy -O hw_final_open_data.npy\n",
    "# !wget https://raw.githubusercontent.com/girafe-ai/ml-course/23f_yandex_ml_trainings/homeworks/assignment_final/hw_final_open_target.npy -O hw_final_open_target.npy"
   ]
  },
  {
   "cell_type": "code",
   "execution_count": 133,
   "metadata": {
    "ExecuteTime": {
     "end_time": "2023-12-01T18:18:28.781261280Z",
     "start_time": "2023-12-01T18:18:28.734052142Z"
    }
   },
   "outputs": [],
   "source": [
    "assert os.path.exists('hw_final_open_data.npy'), 'Please, download `hw_final_open_data.npy` and place it in the working directory'\n",
    "assert os.path.exists('hw_final_open_target.npy'), 'Please, download `hw_final_open_target.npy` and place it in the working directory'\n",
    "data = np.load('hw_final_open_data.npy', allow_pickle=False)\n",
    "target = np.load('hw_final_open_target.npy', allow_pickle=False)"
   ]
  },
  {
   "cell_type": "code",
   "execution_count": 126,
   "outputs": [],
   "source": [
    "def get_df(X):\n",
    "    columns = [f\"f_{i}\" for i in range(X.shape[1])]\n",
    "    df = pd.DataFrame(X, columns=columns)\n",
    "    return df"
   ],
   "metadata": {
    "collapsed": false,
    "ExecuteTime": {
     "end_time": "2023-12-01T18:15:19.168824093Z",
     "start_time": "2023-12-01T18:15:19.146821788Z"
    }
   }
  },
  {
   "cell_type": "code",
   "execution_count": null,
   "outputs": [],
   "source": [
    "try:\n",
    "    "
   ],
   "metadata": {
    "collapsed": false
   }
  },
  {
   "cell_type": "code",
   "execution_count": 141,
   "outputs": [
    {
     "ename": "NotFittedError",
     "evalue": "This StandardScaler instance is not fitted yet. Call 'fit' with appropriate arguments before using this estimator.",
     "output_type": "error",
     "traceback": [
      "\u001B[0;31m---------------------------------------------------------------------------\u001B[0m",
      "\u001B[0;31mNotFittedError\u001B[0m                            Traceback (most recent call last)",
      "Cell \u001B[0;32mIn[141], line 3\u001B[0m\n\u001B[1;32m      1\u001B[0m scaler \u001B[38;5;241m=\u001B[39m StandardScaler()\n\u001B[0;32m----> 3\u001B[0m X \u001B[38;5;241m=\u001B[39m \u001B[43mscaler\u001B[49m\u001B[38;5;241;43m.\u001B[39;49m\u001B[43mtransform\u001B[49m\u001B[43m(\u001B[49m\u001B[43m[\u001B[49m\u001B[38;5;241;43m123\u001B[39;49m\u001B[43m,\u001B[49m\u001B[43m \u001B[49m\u001B[38;5;241;43m123\u001B[39;49m\u001B[43m]\u001B[49m\u001B[43m)\u001B[49m\n\u001B[1;32m      5\u001B[0m \u001B[38;5;28;01mdef\u001B[39;00m \u001B[38;5;21mtransform_and_scale\u001B[39m(X, fit_scaler\u001B[38;5;241m=\u001B[39m\u001B[38;5;28;01mTrue\u001B[39;00m):\n\u001B[1;32m      6\u001B[0m     X \u001B[38;5;241m=\u001B[39m X[:, [\u001B[38;5;241m0\u001B[39m, \u001B[38;5;241m1\u001B[39m, \u001B[38;5;241m3\u001B[39m, \u001B[38;5;241m4\u001B[39m, \u001B[38;5;241m5\u001B[39m]]\n",
      "File \u001B[0;32m~/VirtualEnvironment/mlenv/lib/python3.11/site-packages/sklearn/utils/_set_output.py:157\u001B[0m, in \u001B[0;36m_wrap_method_output.<locals>.wrapped\u001B[0;34m(self, X, *args, **kwargs)\u001B[0m\n\u001B[1;32m    155\u001B[0m \u001B[38;5;129m@wraps\u001B[39m(f)\n\u001B[1;32m    156\u001B[0m \u001B[38;5;28;01mdef\u001B[39;00m \u001B[38;5;21mwrapped\u001B[39m(\u001B[38;5;28mself\u001B[39m, X, \u001B[38;5;241m*\u001B[39margs, \u001B[38;5;241m*\u001B[39m\u001B[38;5;241m*\u001B[39mkwargs):\n\u001B[0;32m--> 157\u001B[0m     data_to_wrap \u001B[38;5;241m=\u001B[39m \u001B[43mf\u001B[49m\u001B[43m(\u001B[49m\u001B[38;5;28;43mself\u001B[39;49m\u001B[43m,\u001B[49m\u001B[43m \u001B[49m\u001B[43mX\u001B[49m\u001B[43m,\u001B[49m\u001B[43m \u001B[49m\u001B[38;5;241;43m*\u001B[39;49m\u001B[43margs\u001B[49m\u001B[43m,\u001B[49m\u001B[43m \u001B[49m\u001B[38;5;241;43m*\u001B[39;49m\u001B[38;5;241;43m*\u001B[39;49m\u001B[43mkwargs\u001B[49m\u001B[43m)\u001B[49m\n\u001B[1;32m    158\u001B[0m     \u001B[38;5;28;01mif\u001B[39;00m \u001B[38;5;28misinstance\u001B[39m(data_to_wrap, \u001B[38;5;28mtuple\u001B[39m):\n\u001B[1;32m    159\u001B[0m         \u001B[38;5;66;03m# only wrap the first output for cross decomposition\u001B[39;00m\n\u001B[1;32m    160\u001B[0m         return_tuple \u001B[38;5;241m=\u001B[39m (\n\u001B[1;32m    161\u001B[0m             _wrap_data_with_container(method, data_to_wrap[\u001B[38;5;241m0\u001B[39m], X, \u001B[38;5;28mself\u001B[39m),\n\u001B[1;32m    162\u001B[0m             \u001B[38;5;241m*\u001B[39mdata_to_wrap[\u001B[38;5;241m1\u001B[39m:],\n\u001B[1;32m    163\u001B[0m         )\n",
      "File \u001B[0;32m~/VirtualEnvironment/mlenv/lib/python3.11/site-packages/sklearn/preprocessing/_data.py:1003\u001B[0m, in \u001B[0;36mStandardScaler.transform\u001B[0;34m(self, X, copy)\u001B[0m\n\u001B[1;32m    988\u001B[0m \u001B[38;5;28;01mdef\u001B[39;00m \u001B[38;5;21mtransform\u001B[39m(\u001B[38;5;28mself\u001B[39m, X, copy\u001B[38;5;241m=\u001B[39m\u001B[38;5;28;01mNone\u001B[39;00m):\n\u001B[1;32m    989\u001B[0m \u001B[38;5;250m    \u001B[39m\u001B[38;5;124;03m\"\"\"Perform standardization by centering and scaling.\u001B[39;00m\n\u001B[1;32m    990\u001B[0m \n\u001B[1;32m    991\u001B[0m \u001B[38;5;124;03m    Parameters\u001B[39;00m\n\u001B[0;32m   (...)\u001B[0m\n\u001B[1;32m   1001\u001B[0m \u001B[38;5;124;03m        Transformed array.\u001B[39;00m\n\u001B[1;32m   1002\u001B[0m \u001B[38;5;124;03m    \"\"\"\u001B[39;00m\n\u001B[0;32m-> 1003\u001B[0m     \u001B[43mcheck_is_fitted\u001B[49m\u001B[43m(\u001B[49m\u001B[38;5;28;43mself\u001B[39;49m\u001B[43m)\u001B[49m\n\u001B[1;32m   1005\u001B[0m     copy \u001B[38;5;241m=\u001B[39m copy \u001B[38;5;28;01mif\u001B[39;00m copy \u001B[38;5;129;01mis\u001B[39;00m \u001B[38;5;129;01mnot\u001B[39;00m \u001B[38;5;28;01mNone\u001B[39;00m \u001B[38;5;28;01melse\u001B[39;00m \u001B[38;5;28mself\u001B[39m\u001B[38;5;241m.\u001B[39mcopy\n\u001B[1;32m   1006\u001B[0m     X \u001B[38;5;241m=\u001B[39m \u001B[38;5;28mself\u001B[39m\u001B[38;5;241m.\u001B[39m_validate_data(\n\u001B[1;32m   1007\u001B[0m         X,\n\u001B[1;32m   1008\u001B[0m         reset\u001B[38;5;241m=\u001B[39m\u001B[38;5;28;01mFalse\u001B[39;00m,\n\u001B[0;32m   (...)\u001B[0m\n\u001B[1;32m   1012\u001B[0m         force_all_finite\u001B[38;5;241m=\u001B[39m\u001B[38;5;124m\"\u001B[39m\u001B[38;5;124mallow-nan\u001B[39m\u001B[38;5;124m\"\u001B[39m,\n\u001B[1;32m   1013\u001B[0m     )\n",
      "File \u001B[0;32m~/VirtualEnvironment/mlenv/lib/python3.11/site-packages/sklearn/utils/validation.py:1461\u001B[0m, in \u001B[0;36mcheck_is_fitted\u001B[0;34m(estimator, attributes, msg, all_or_any)\u001B[0m\n\u001B[1;32m   1458\u001B[0m     \u001B[38;5;28;01mraise\u001B[39;00m \u001B[38;5;167;01mTypeError\u001B[39;00m(\u001B[38;5;124m\"\u001B[39m\u001B[38;5;132;01m%s\u001B[39;00m\u001B[38;5;124m is not an estimator instance.\u001B[39m\u001B[38;5;124m\"\u001B[39m \u001B[38;5;241m%\u001B[39m (estimator))\n\u001B[1;32m   1460\u001B[0m \u001B[38;5;28;01mif\u001B[39;00m \u001B[38;5;129;01mnot\u001B[39;00m _is_fitted(estimator, attributes, all_or_any):\n\u001B[0;32m-> 1461\u001B[0m     \u001B[38;5;28;01mraise\u001B[39;00m NotFittedError(msg \u001B[38;5;241m%\u001B[39m {\u001B[38;5;124m\"\u001B[39m\u001B[38;5;124mname\u001B[39m\u001B[38;5;124m\"\u001B[39m: \u001B[38;5;28mtype\u001B[39m(estimator)\u001B[38;5;241m.\u001B[39m\u001B[38;5;18m__name__\u001B[39m})\n",
      "\u001B[0;31mNotFittedError\u001B[0m: This StandardScaler instance is not fitted yet. Call 'fit' with appropriate arguments before using this estimator."
     ]
    }
   ],
   "source": [
    "scaler = StandardScaler()\n",
    "\n",
    "X = scaler.transform([123, 123])\n",
    "\n",
    "def transform_and_scale(X, fit_scaler=True):\n",
    "    X = X[:, [0, 1, 3, 4, 5]]\n",
    "    if fit_scaler:\n",
    "        scaler.fit(X)\n",
    "    X = scaler.transform(X)\n",
    "    return X"
   ],
   "metadata": {
    "collapsed": false,
    "ExecuteTime": {
     "end_time": "2023-12-01T18:26:57.604908848Z",
     "start_time": "2023-12-01T18:26:57.524256030Z"
    }
   }
  },
  {
   "cell_type": "code",
   "execution_count": 128,
   "outputs": [],
   "source": [
    "data_scaled = transform_and_scale(data)\n",
    "\n",
    "data_df = get_df(data_scaled)\n",
    "data_df[\"target\"] = target"
   ],
   "metadata": {
    "collapsed": false,
    "ExecuteTime": {
     "end_time": "2023-12-01T18:15:20.028544689Z",
     "start_time": "2023-12-01T18:15:20.023179325Z"
    }
   }
  },
  {
   "cell_type": "code",
   "execution_count": 140,
   "outputs": [
    {
     "data": {
      "text/plain": "          f_0       f_1       f_2       f_3       f_4    target\n0   -1.756850 -1.337819 -1.470987 -1.660514 -1.362547  0.382870\n1   -0.242356 -0.601022 -0.518101 -0.357012 -0.587032  2.742402\n2    1.093615  1.416037  1.339837  1.197407  1.403005  7.239643\n3    0.555047  0.342000  0.420964  0.514685  0.357320  4.731191\n4   -0.811037 -0.986352 -0.972687 -0.893803 -0.985643  1.317211\n..        ...       ...       ...       ...       ...       ...\n795 -0.301560 -0.649870 -0.572468 -0.415929 -0.637004  2.403090\n796 -1.877984 -1.366118 -1.517798 -1.748970 -1.393870  0.116159\n797  0.818543  0.810505  0.835882  0.838276  0.816400  5.261471\n798  0.448376  0.178525  0.269698  0.389032  0.195822  4.034624\n799 -1.089583 -1.119327 -1.147711 -1.134674 -1.126189  1.468392\n\n[800 rows x 6 columns]",
      "text/html": "<div>\n<style scoped>\n    .dataframe tbody tr th:only-of-type {\n        vertical-align: middle;\n    }\n\n    .dataframe tbody tr th {\n        vertical-align: top;\n    }\n\n    .dataframe thead th {\n        text-align: right;\n    }\n</style>\n<table border=\"1\" class=\"dataframe\">\n  <thead>\n    <tr style=\"text-align: right;\">\n      <th></th>\n      <th>f_0</th>\n      <th>f_1</th>\n      <th>f_2</th>\n      <th>f_3</th>\n      <th>f_4</th>\n      <th>target</th>\n    </tr>\n  </thead>\n  <tbody>\n    <tr>\n      <th>0</th>\n      <td>-1.756850</td>\n      <td>-1.337819</td>\n      <td>-1.470987</td>\n      <td>-1.660514</td>\n      <td>-1.362547</td>\n      <td>0.382870</td>\n    </tr>\n    <tr>\n      <th>1</th>\n      <td>-0.242356</td>\n      <td>-0.601022</td>\n      <td>-0.518101</td>\n      <td>-0.357012</td>\n      <td>-0.587032</td>\n      <td>2.742402</td>\n    </tr>\n    <tr>\n      <th>2</th>\n      <td>1.093615</td>\n      <td>1.416037</td>\n      <td>1.339837</td>\n      <td>1.197407</td>\n      <td>1.403005</td>\n      <td>7.239643</td>\n    </tr>\n    <tr>\n      <th>3</th>\n      <td>0.555047</td>\n      <td>0.342000</td>\n      <td>0.420964</td>\n      <td>0.514685</td>\n      <td>0.357320</td>\n      <td>4.731191</td>\n    </tr>\n    <tr>\n      <th>4</th>\n      <td>-0.811037</td>\n      <td>-0.986352</td>\n      <td>-0.972687</td>\n      <td>-0.893803</td>\n      <td>-0.985643</td>\n      <td>1.317211</td>\n    </tr>\n    <tr>\n      <th>...</th>\n      <td>...</td>\n      <td>...</td>\n      <td>...</td>\n      <td>...</td>\n      <td>...</td>\n      <td>...</td>\n    </tr>\n    <tr>\n      <th>795</th>\n      <td>-0.301560</td>\n      <td>-0.649870</td>\n      <td>-0.572468</td>\n      <td>-0.415929</td>\n      <td>-0.637004</td>\n      <td>2.403090</td>\n    </tr>\n    <tr>\n      <th>796</th>\n      <td>-1.877984</td>\n      <td>-1.366118</td>\n      <td>-1.517798</td>\n      <td>-1.748970</td>\n      <td>-1.393870</td>\n      <td>0.116159</td>\n    </tr>\n    <tr>\n      <th>797</th>\n      <td>0.818543</td>\n      <td>0.810505</td>\n      <td>0.835882</td>\n      <td>0.838276</td>\n      <td>0.816400</td>\n      <td>5.261471</td>\n    </tr>\n    <tr>\n      <th>798</th>\n      <td>0.448376</td>\n      <td>0.178525</td>\n      <td>0.269698</td>\n      <td>0.389032</td>\n      <td>0.195822</td>\n      <td>4.034624</td>\n    </tr>\n    <tr>\n      <th>799</th>\n      <td>-1.089583</td>\n      <td>-1.119327</td>\n      <td>-1.147711</td>\n      <td>-1.134674</td>\n      <td>-1.126189</td>\n      <td>1.468392</td>\n    </tr>\n  </tbody>\n</table>\n<p>800 rows × 6 columns</p>\n</div>"
     },
     "execution_count": 140,
     "metadata": {},
     "output_type": "execute_result"
    }
   ],
   "source": [
    "data_df"
   ],
   "metadata": {
    "collapsed": false,
    "ExecuteTime": {
     "end_time": "2023-12-01T18:23:09.023197182Z",
     "start_time": "2023-12-01T18:23:08.967219838Z"
    }
   }
  },
  {
   "cell_type": "code",
   "execution_count": 130,
   "outputs": [
    {
     "data": {
      "text/plain": "<Figure size 1000x800 with 2 Axes>",
      "image/png": "[encoded data removed]"
     },
     "metadata": {},
     "output_type": "display_data"
    }
   ],
   "source": [
    "correlation_matrix = data_df.corr()\n",
    "\n",
    "plt.figure(figsize=(10, 8))\n",
    "sns.heatmap(correlation_matrix, annot=True, cmap=\"coolwarm\", fmt=\".2f\", linewidths=0.5)\n",
    "plt.title('Correlation Matrix Heatmap')\n",
    "plt.show()"
   ],
   "metadata": {
    "collapsed": false,
    "ExecuteTime": {
     "end_time": "2023-12-01T18:15:21.921962072Z",
     "start_time": "2023-12-01T18:15:21.668325484Z"
    }
   }
  },
  {
   "cell_type": "markdown",
   "metadata": {},
   "source": [
    "Разбивка на `train` и `val` опциональна и сделана для вашего удобства."
   ]
  },
  {
   "cell_type": "code",
   "execution_count": 134,
   "metadata": {
    "ExecuteTime": {
     "end_time": "2023-12-01T18:18:34.716383359Z",
     "start_time": "2023-12-01T18:18:34.697130554Z"
    }
   },
   "outputs": [],
   "source": [
    "train_x, valid_x, train_y, valid_y = train_test_split(data, target, test_size=0.3)"
   ]
  },
  {
   "cell_type": "markdown",
   "metadata": {},
   "source": [
    "### Модель №1\n",
    "Напоминаем, в первой части задания ваша основная задача – получить наилучший результат без ограничений на модель. Сдаваться будут только предсказания модели.\n",
    "\n",
    "Пример с использованием Random Forest доступен ниже."
   ]
  },
  {
   "cell_type": "code",
   "execution_count": 74,
   "metadata": {
    "ExecuteTime": {
     "end_time": "2023-12-01T16:07:08.723536167Z",
     "start_time": "2023-12-01T16:07:08.528567750Z"
    }
   },
   "outputs": [
    {
     "name": "stdout",
     "output_type": "stream",
     "text": [
      "train mse =\t 0.10557\n",
      "validation mse = 0.30833\n"
     ]
    }
   ],
   "source": [
    "rf = RandomForestRegressor()\n",
    "rf.fit(train_x, train_y)\n",
    "\n",
    "print(\n",
    "    f'train mse =\\t {mean_squared_error(np.round(rf.predict(train_x), 2), np.round(train_y)):.5f}',\n",
    "    f'validation mse = {mean_squared_error(np.round(rf.predict(valid_x)), np.round(valid_y)):.5f}',\n",
    "    sep='\\n'\n",
    ")"
   ]
  },
  {
   "cell_type": "markdown",
   "metadata": {},
   "source": [
    "##### Сдача первой части соревнования\n",
    "Загрузите файл `hw_final_closed_data.npy` (ссылка есть на странице с заданием). Если вы используете sklearn-совместимую модель, для генерации посылки вы можете воспользоваться функцией `get_predictions`. В ином случае перепишите функцию для вашей модели и запустите код под следующей ячейкой для генерации посылки."
   ]
  },
  {
   "cell_type": "code",
   "execution_count": 25,
   "metadata": {
    "ExecuteTime": {
     "end_time": "2023-12-01T16:02:07.267562942Z",
     "start_time": "2023-12-01T16:02:07.195494867Z"
    }
   },
   "outputs": [],
   "source": [
    "# !wget https://raw.githubusercontent.com/girafe-ai/ml-course/23f_yandex_ml_trainings/homeworks/assignment_final/hw_final_closed_data.npy -O hw_final_closed_data.npy"
   ]
  },
  {
   "cell_type": "code",
   "execution_count": 75,
   "metadata": {
    "ExecuteTime": {
     "end_time": "2023-12-01T16:08:04.288240734Z",
     "start_time": "2023-12-01T16:08:04.246802099Z"
    }
   },
   "outputs": [],
   "source": [
    "assert os.path.exists('hw_final_closed_data.npy'), 'Please, download `hw_final_closed_data.npy` and place it in the working directory'\n",
    "closed_data = np.load('hw_final_closed_data.npy', allow_pickle=False)"
   ]
  },
  {
   "cell_type": "markdown",
   "metadata": {},
   "source": [
    "Если необходимо, преобразуйте данные. Преобразованную матрицу объект-признак сохраните в переменную `closed_data`."
   ]
  },
  {
   "cell_type": "code",
   "execution_count": 76,
   "metadata": {
    "ExecuteTime": {
     "end_time": "2023-12-01T16:08:45.366439454Z",
     "start_time": "2023-12-01T16:08:45.321382424Z"
    }
   },
   "outputs": [],
   "source": [
    "closed_data = transform_and_scale(closed_data, False)"
   ]
  },
  {
   "cell_type": "code",
   "execution_count": 77,
   "metadata": {
    "ExecuteTime": {
     "end_time": "2023-12-01T16:08:46.109454934Z",
     "start_time": "2023-12-01T16:08:46.100310826Z"
    }
   },
   "outputs": [],
   "source": [
    "def get_predictions(model, eval_data, step=10):\n",
    "    predicted_values = model.predict(eval_data)\n",
    "    return predicted_values"
   ]
  },
  {
   "cell_type": "markdown",
   "metadata": {},
   "source": [
    "Обращаем ваше внимание, предсказания округляются до сотых!"
   ]
  },
  {
   "cell_type": "code",
   "execution_count": 78,
   "metadata": {
    "ExecuteTime": {
     "end_time": "2023-12-01T16:08:53.939350022Z",
     "start_time": "2023-12-01T16:08:53.892368464Z"
    }
   },
   "outputs": [],
   "source": [
    "predicted_values = np.round(get_predictions(model=rf, eval_data=closed_data), 2)\n",
    "\n",
    "assert predicted_values.shape == (closed_data.shape[0], ) # predictions should be just one-dimensional array"
   ]
  },
  {
   "cell_type": "code",
   "execution_count": 79,
   "metadata": {
    "ExecuteTime": {
     "end_time": "2023-12-01T16:08:54.516931658Z",
     "start_time": "2023-12-01T16:08:54.498874428Z"
    }
   },
   "outputs": [
    {
     "name": "stdout",
     "output_type": "stream",
     "text": [
      "File saved to `submission_dict_final_p01.json`\n"
     ]
    }
   ],
   "source": [
    "# do not change the code in the block below\n",
    "# __________start of block__________\n",
    "def float_list_to_comma_separated_str(_list):\n",
    "    _list = list(np.round(np.array(_list), 2))\n",
    "    return ','.join([str(x) for x in _list])\n",
    "\n",
    "submission_dict = {\n",
    "    'predictions': float_list_to_comma_separated_str(predicted_values)\n",
    "}\n",
    "with open('submission_dict_final_p01.json', 'w') as iofile:\n",
    "    json.dump(submission_dict, iofile)\n",
    "    \n",
    "print('File saved to `submission_dict_final_p01.json`')\n",
    "# __________end of block__________"
   ]
  },
  {
   "cell_type": "markdown",
   "metadata": {},
   "source": [
    "### Модель №2\n",
    "Функция `my_transformation` принимает на вход матрицу объект-признак (`numpy.ndarray` типа `np.float`) и преобразует ее в новую матрицу. Данная функция может использовать только numpy-операции, а также арифметические действия.\n",
    "\n",
    "Для примера доступна функция ниже. Она лишь добавляет новый признак, представляющий собой произведение первого и второго исходных признаков (считая с нуля)."
   ]
  },
  {
   "cell_type": "code",
   "execution_count": 142,
   "metadata": {
    "ExecuteTime": {
     "end_time": "2023-12-01T18:28:46.124655329Z",
     "start_time": "2023-12-01T18:28:46.075563433Z"
    }
   },
   "outputs": [],
   "source": [
    "def my_transformation(feature_matrix: np.ndarray):\n",
    "    feature_matrix = feature_matrix[:, [0, 1, 3, 4, 5]]\n",
    "    \n",
    "    try:\n",
    "        feature_matrix = scaler.transform(feature_matrix)\n",
    "    except Exception as e:\n",
    "        feature_matrix = scaler.fit_transform(feature_matrix)\n",
    "    \n",
    "    new_feature_matrix = np.zeros((feature_matrix.shape[0], feature_matrix.shape[1]+1))\n",
    "    new_feature_matrix[:, :feature_matrix.shape[1]] = feature_matrix\n",
    "    new_feature_matrix[:, -1] = feature_matrix[:, 0] * feature_matrix[:, 1]\n",
    "    return new_feature_matrix"
   ]
  },
  {
   "cell_type": "code",
   "execution_count": 143,
   "metadata": {
    "ExecuteTime": {
     "end_time": "2023-12-01T18:28:50.707310675Z",
     "start_time": "2023-12-01T18:28:50.658404612Z"
    }
   },
   "outputs": [],
   "source": [
    "transformed_train_x = my_transformation(train_x)"
   ]
  },
  {
   "cell_type": "code",
   "execution_count": 144,
   "metadata": {
    "ExecuteTime": {
     "end_time": "2023-12-01T18:28:51.081367631Z",
     "start_time": "2023-12-01T18:28:51.065045691Z"
    }
   },
   "outputs": [
    {
     "name": "stdout",
     "output_type": "stream",
     "text": [
      "train mse =\t 0.09075\n",
      "validation mse = 0.08844\n"
     ]
    }
   ],
   "source": [
    "lr = Ridge()\n",
    "lr.fit(transformed_train_x, train_y)\n",
    "\n",
    "print(\n",
    "    f'train mse =\\t {mean_squared_error(lr.predict(transformed_train_x), train_y):.5f}',\n",
    "    f'validation mse = {mean_squared_error(lr.predict(my_transformation(valid_x)), valid_y):.5f}',\n",
    "    sep='\\n'\n",
    ")"
   ]
  },
  {
   "cell_type": "markdown",
   "metadata": {},
   "source": [
    "Обращаем ваше внимание, что параметры линейной модели будут округляться до __четырех знаков после запятой__. Это не должно сильно повлиять на качество предсказаний:"
   ]
  },
  {
   "cell_type": "code",
   "execution_count": 145,
   "metadata": {
    "ExecuteTime": {
     "end_time": "2023-12-01T18:28:52.236051665Z",
     "start_time": "2023-12-01T18:28:52.185695185Z"
    }
   },
   "outputs": [],
   "source": [
    "original_predictions = lr.predict(transformed_train_x)\n",
    "rounded_predictions = transformed_train_x.dot(np.round(lr.coef_, 4)) + np.round(lr.intercept_, 4)\n",
    "\n",
    "\n",
    "assert np.allclose(original_predictions, rounded_predictions, atol=1e-3)"
   ]
  },
  {
   "cell_type": "markdown",
   "metadata": {},
   "source": [
    "Параметры вашей модели:"
   ]
  },
  {
   "cell_type": "code",
   "execution_count": 146,
   "metadata": {
    "ExecuteTime": {
     "end_time": "2023-12-01T18:28:54.699479249Z",
     "start_time": "2023-12-01T18:28:54.678629867Z"
    }
   },
   "outputs": [
    {
     "name": "stdout",
     "output_type": "stream",
     "text": [
      "w = [0.1892, 0.5353, 0.5623, 0.4039, 0.5459, 0.1562]\n",
      "b = 3.5727\n"
     ]
    }
   ],
   "source": [
    "w_list = list(np.round(lr.coef_, 4))\n",
    "print(f'w = {list(np.round(lr.coef_, 4))}\\nb = {np.round(lr.intercept_, 4)}')"
   ]
  },
  {
   "cell_type": "markdown",
   "metadata": {},
   "source": [
    "Напоминаем, ваша модель не должна использовать более 15 параметров (14 весов плюс свободный член)."
   ]
  },
  {
   "cell_type": "code",
   "execution_count": null,
   "metadata": {},
   "outputs": [],
   "source": [
    "assert len(w_list) + 1 <= 15"
   ]
  },
  {
   "cell_type": "markdown",
   "metadata": {},
   "source": [
    "##### Сдача второй части соревнования\n",
    "Для сдачи вам достаточно отправить функцию `my_transformation` и параметры вашей модели в контест в задачу №2. Пример посылки доступен ниже. Имортирование `numpy` также необходимо."
   ]
  },
  {
   "cell_type": "code",
   "execution_count": null,
   "metadata": {},
   "outputs": [],
   "source": [
    "# __________example_submission_start__________\n",
    "import numpy as np\n",
    "def my_transformation(feature_matrix: np.ndarray):\n",
    "    \n",
    "    new_feature_matrix = np.zeros((feature_matrix.shape[0], feature_matrix.shape[1]+1))\n",
    "    new_feature_matrix[:, :feature_matrix.shape[1]] = feature_matrix\n",
    "    new_feature_matrix[:, -1] = feature_matrix[:, 0\n",
    "    ] * feature_matrix[:, 1]\n",
    "    return new_feature_matrix\n",
    "\n",
    "w_submission = [-0.0027, -0.2637, -0.1134, -0.0165, -0.9329, 0.1293]\n",
    "b_submission = 1.1312\n",
    "# __________example_submission_end__________"
   ]
  },
  {
   "attachments": {},
   "cell_type": "markdown",
   "metadata": {},
   "source": [
    "На этом задание завершено. Поздравляем!"
   ]
  }
 ],
 "metadata": {
  "kernelspec": {
   "name": "python3",
   "language": "python",
   "display_name": "Python 3 (ipykernel)"
  },
  "language_info": {
   "codemirror_mode": {
    "name": "ipython",
    "version": 3
   },
   "file_extension": ".py",
   "mimetype": "text/x-python",
   "name": "python",
   "nbconvert_exporter": "python",
   "pygments_lexer": "ipython3",
   "version": "3.9.16"
  }
 },
 "nbformat": 4,
 "nbformat_minor": 4
}
