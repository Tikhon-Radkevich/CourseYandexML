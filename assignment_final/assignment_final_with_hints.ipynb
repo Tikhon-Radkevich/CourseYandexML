{
  "cells": [
    {
      "cell_type": "markdown",
      "metadata": {
        "id": "ErGqtdS9_DxV"
      },
      "source": [
        "## Финальное соревнование\n",
        "\n",
        "##### Автор: [Радослав Нейчев](https://www.linkedin.com/in/radoslav-neychev/), @neychev"
      ]
    },
    {
      "cell_type": "markdown",
      "metadata": {
        "id": "9_pUCX4a_DxX"
      },
      "source": [
        "В данном задании вас ждет неизвестная зависимость. Ваша основная задача: **построить две лучших модели**, минимизирующих среднеквадратичную ошибку (MSE):\n",
        "1. На первую модель не налагается ограничений.\n",
        "2. Вторая модель должна быть **линейной**, т.е. представлять собой линейную комбинацию признаков плюс свободный член: $\\boldsymbol{w}^{\\top}\\boldsymbol{x} + b$. При этом __вы можете использовать базовые математические операции для преобразования признаков__: np.exp, np.log, np.pow (полный список доступен в [документации](https://numpy.org/doc/stable/reference/routines.math.html)), а также линейные операции над ними (сумма, умножение на число и пр.). Для преобразования признаков вам будет необходимо написать функцию `my_transformation`. __Кол-во параметров (весов) используемых второй моделью не должно превышать 15 (включая свободный член).__\n",
        "\n",
        "Настоятельно рекомендуем написать код \"с нуля\", лишь поглядывая на готовые примеры, а не просто \"скопировать-вставить\". Это поможет вам в будущем писать код более уверенно"
      ]
    },
    {
      "cell_type": "code",
      "execution_count": null,
      "metadata": {
        "id": "F1w-XsSp_DxY"
      },
      "outputs": [],
      "source": [
        "import os\n",
        "import json\n",
        "\n",
        "import numpy as np\n",
        "from matplotlib import pyplot as plt\n",
        "from sklearn.linear_model import Ridge\n",
        "from sklearn.ensemble import RandomForestRegressor\n",
        "from sklearn.metrics import mean_squared_error\n",
        "from sklearn.model_selection import train_test_split"
      ]
    },
    {
      "cell_type": "markdown",
      "metadata": {
        "id": "WR8GKGpz_DxY"
      },
      "source": [
        "Загрузка данных происходит ниже. Если она не срабатывает, самостоятельно скачайте файл `hw_final_open_data.npy` и положите его в ту же директорию, что и ноутбук."
      ]
    },
    {
      "cell_type": "code",
      "execution_count": null,
      "metadata": {
        "colab": {
          "base_uri": "https://localhost:8080/"
        },
        "id": "iTe4YK13_DxZ",
        "outputId": "190c357a-315f-46af-804b-1824bedab6b2"
      },
      "outputs": [
        {
          "output_type": "stream",
          "name": "stdout",
          "text": [
            "--2023-11-29 07:33:26--  https://raw.githubusercontent.com/girafe-ai/ml-course/23f_yandex_ml_trainings/homeworks/assignment_final/hw_final_open_data.npy\n",
            "Resolving raw.githubusercontent.com (raw.githubusercontent.com)... 185.199.108.133, 185.199.109.133, 185.199.110.133, ...\n",
            "Connecting to raw.githubusercontent.com (raw.githubusercontent.com)|185.199.108.133|:443... connected.\n",
            "HTTP request sent, awaiting response... 200 OK\n",
            "Length: 44928 (44K) [application/octet-stream]\n",
            "Saving to: ‘hw_final_open_data.npy’\n",
            "\n",
            "\rhw_final_open_data.   0%[                    ]       0  --.-KB/s               \rhw_final_open_data. 100%[===================>]  43.88K  --.-KB/s    in 0.001s  \n",
            "\n",
            "2023-11-29 07:33:26 (28.7 MB/s) - ‘hw_final_open_data.npy’ saved [44928/44928]\n",
            "\n",
            "--2023-11-29 07:33:26--  https://raw.githubusercontent.com/girafe-ai/ml-course/23f_yandex_ml_trainings/homeworks/assignment_final/hw_final_open_target.npy\n",
            "Resolving raw.githubusercontent.com (raw.githubusercontent.com)... 185.199.108.133, 185.199.109.133, 185.199.110.133, ...\n",
            "Connecting to raw.githubusercontent.com (raw.githubusercontent.com)|185.199.108.133|:443... connected.\n",
            "HTTP request sent, awaiting response... 200 OK\n",
            "Length: 6528 (6.4K) [application/octet-stream]\n",
            "Saving to: ‘hw_final_open_target.npy’\n",
            "\n",
            "hw_final_open_targe 100%[===================>]   6.38K  --.-KB/s    in 0s      \n",
            "\n",
            "2023-11-29 07:33:26 (60.1 MB/s) - ‘hw_final_open_target.npy’ saved [6528/6528]\n",
            "\n"
          ]
        }
      ],
      "source": [
        "!wget https://raw.githubusercontent.com/girafe-ai/ml-course/23f_yandex_ml_trainings/homeworks/assignment_final/hw_final_open_data.npy -O hw_final_open_data.npy\n",
        "!wget https://raw.githubusercontent.com/girafe-ai/ml-course/23f_yandex_ml_trainings/homeworks/assignment_final/hw_final_open_target.npy -O hw_final_open_target.npy"
      ]
    },
    {
      "cell_type": "code",
      "execution_count": null,
      "metadata": {
        "id": "QOOhB3hA_DxZ"
      },
      "outputs": [],
      "source": [
        "assert os.path.exists('hw_final_open_data.npy'), 'Please, download `hw_final_open_data.npy` and place it in the working directory'\n",
        "assert os.path.exists('hw_final_open_target.npy'), 'Please, download `hw_final_open_target.npy` and place it in the working directory'\n",
        "data = np.load('hw_final_open_data.npy', allow_pickle=False)\n",
        "target = np.load('hw_final_open_target.npy', allow_pickle=False)"
      ]
    },
    {
      "cell_type": "markdown",
      "metadata": {
        "id": "OrNLsI_j_DxZ"
      },
      "source": [
        "Разбивка на `train` и `val` опциональна и сделана для вашего удобства."
      ]
    },
    {
      "cell_type": "code",
      "execution_count": null,
      "metadata": {
        "id": "vOfrc3pH_DxZ"
      },
      "outputs": [],
      "source": [
        "train_x, valid_x, train_y, valid_y = train_test_split(data, target, test_size=0.3)"
      ]
    },
    {
      "cell_type": "markdown",
      "metadata": {
        "id": "5yhrRSTl_DxZ"
      },
      "source": [
        "### Модель №1\n",
        "Напоминаем, в первой части задания ваша основная задача – получить наилучший результат без ограничений на модель. Сдаваться будут только предсказания модели.\n",
        "\n",
        "Пример с использованием Random Forest доступен ниже."
      ]
    },
    {
      "cell_type": "code",
      "execution_count": null,
      "metadata": {
        "colab": {
          "base_uri": "https://localhost:8080/"
        },
        "id": "kaX05-aK_Dxa",
        "outputId": "83aec9e4-35dd-439c-d08b-12b0f830f5c7"
      },
      "outputs": [
        {
          "output_type": "stream",
          "name": "stdout",
          "text": [
            "train mse =\t 0.10431\n",
            "validation mse = 0.30417\n"
          ]
        }
      ],
      "source": [
        "rf = RandomForestRegressor()\n",
        "rf.fit(train_x, train_y)\n",
        "\n",
        "print(\n",
        "    f'train mse =\\t {mean_squared_error(np.round(rf.predict(train_x), 2), np.round(train_y)):.5f}',\n",
        "    f'validation mse = {mean_squared_error(np.round(rf.predict(valid_x)), np.round(valid_y)):.5f}',\n",
        "    sep='\\n'\n",
        ")"
      ]
    },
    {
      "cell_type": "markdown",
      "metadata": {
        "id": "KPe4GnMZ_Dxa"
      },
      "source": [
        "##### Сдача первой части соревнования\n",
        "Загрузите файл `hw_final_closed_data.npy` (ссылка есть на странице с заданием). Если вы используете sklearn-совместимую модель, для генерации посылки вы можете воспользоваться функцией `get_predictions`. В ином случае перепишите функцию для вашей модели и запустите код под следующей ячейкой для генерации посылки."
      ]
    },
    {
      "cell_type": "code",
      "execution_count": null,
      "metadata": {
        "colab": {
          "base_uri": "https://localhost:8080/"
        },
        "id": "PGOEaipG_Dxb",
        "outputId": "7b615e73-a0ee-41bb-8dae-0e50c4038fb0"
      },
      "outputs": [
        {
          "output_type": "stream",
          "name": "stdout",
          "text": [
            "--2023-11-29 07:40:34--  https://raw.githubusercontent.com/girafe-ai/ml-course/23f_yandex_ml_trainings/homeworks/assignment_final/hw_final_closed_data.npy\n",
            "Resolving raw.githubusercontent.com (raw.githubusercontent.com)... 185.199.108.133, 185.199.109.133, 185.199.110.133, ...\n",
            "Connecting to raw.githubusercontent.com (raw.githubusercontent.com)|185.199.108.133|:443... connected.\n",
            "HTTP request sent, awaiting response... 200 OK\n",
            "Length: 11328 (11K) [application/octet-stream]\n",
            "Saving to: ‘hw_final_closed_data.npy’\n",
            "\n",
            "\rhw_final_closed_dat   0%[                    ]       0  --.-KB/s               \rhw_final_closed_dat 100%[===================>]  11.06K  --.-KB/s    in 0s      \n",
            "\n",
            "2023-11-29 07:40:34 (65.9 MB/s) - ‘hw_final_closed_data.npy’ saved [11328/11328]\n",
            "\n"
          ]
        }
      ],
      "source": [
        "!wget https://raw.githubusercontent.com/girafe-ai/ml-course/23f_yandex_ml_trainings/homeworks/assignment_final/hw_final_closed_data.npy -O hw_final_closed_data.npy"
      ]
    },
    {
      "cell_type": "code",
      "execution_count": null,
      "metadata": {
        "id": "KyLD_D4Q_Dxb"
      },
      "outputs": [],
      "source": [
        "assert os.path.exists('hw_final_closed_data.npy'), 'Please, download `hw_final_closed_data.npy` and place it in the working directory'\n",
        "closed_data = np.load('hw_final_closed_data.npy', allow_pickle=False)"
      ]
    },
    {
      "cell_type": "markdown",
      "metadata": {
        "id": "LpP3y2UM_Dxb"
      },
      "source": [
        "Если необходимо, преобразуйте данные. Преобразованную матрицу объект-признак сохраните в переменную `closed_data`."
      ]
    },
    {
      "cell_type": "code",
      "execution_count": null,
      "metadata": {
        "id": "A4WvkcPh_Dxb"
      },
      "outputs": [],
      "source": [
        "# optional transformations"
      ]
    },
    {
      "cell_type": "code",
      "execution_count": null,
      "metadata": {
        "id": "ihcAVizA_Dxb"
      },
      "outputs": [],
      "source": [
        "def get_predictions(model, eval_data, step=10):\n",
        "    predicted_values = model.predict(eval_data)\n",
        "    return predicted_values"
      ]
    },
    {
      "cell_type": "markdown",
      "metadata": {
        "id": "1AD83l6K_Dxb"
      },
      "source": [
        "Обращаем ваше внимание, предсказания округляются до сотых!"
      ]
    },
    {
      "cell_type": "code",
      "execution_count": null,
      "metadata": {
        "id": "FfC86BG4_Dxb"
      },
      "outputs": [],
      "source": [
        "predicted_values = np.round(get_predictions(model=rf, eval_data=closed_data), 2)\n",
        "\n",
        "assert predicted_values.shape == (closed_data.shape[0], ) # predictions should be just one-dimensional array"
      ]
    },
    {
      "cell_type": "code",
      "execution_count": null,
      "metadata": {
        "colab": {
          "base_uri": "https://localhost:8080/"
        },
        "id": "ZWf3TD-x_Dxb",
        "outputId": "cd143a9c-11f7-4807-aa19-781ea832efb2"
      },
      "outputs": [
        {
          "output_type": "stream",
          "name": "stdout",
          "text": [
            "File saved to `submission_dict_final_p01.npy`\n"
          ]
        }
      ],
      "source": [
        "# do not change the code in the block below\n",
        "# __________start of block__________\n",
        "def float_list_to_comma_separated_str(_list):\n",
        "    _list = list(np.round(np.array(_list), 2))\n",
        "    return ','.join([str(x) for x in _list])\n",
        "\n",
        "submission_dict = {\n",
        "    'predictions': float_list_to_comma_separated_str(predicted_values)\n",
        "}\n",
        "with open('submission_dict_final_p01.json', 'w') as iofile:\n",
        "    json.dump(submission_dict, iofile)\n",
        "\n",
        "print('File saved to `submission_dict_final_p01.npy`')\n",
        "# __________end of block__________"
      ]
    },
    {
      "cell_type": "markdown",
      "metadata": {
        "id": "JqseUTZo_Dxb"
      },
      "source": [
        "\n",
        "\n",
        "\n",
        "\n",
        "### Модель №2\n",
        "Функция `my_transformation` принимает на вход матрицу объект-признак (`numpy.ndarray` типа `np.float`) и преобразует ее в новую матрицу. Данная функция может использовать только numpy-операции, а также арифметические действия.\n",
        "\n",
        "Для примера доступна функция ниже. Она лишь добавляет новый признак, представляющий собой произведение первого и второго исходных признаков (считая с нуля)."
      ]
    },
    {
      "cell_type": "code",
      "execution_count": null,
      "metadata": {
        "id": "UBLSd32C_Dxc"
      },
      "outputs": [],
      "source": [
        "def my_transformation(feature_matrix: np.ndarray):\n",
        "    new_feature_matrix = np.zeros((feature_matrix.shape[0], feature_matrix.shape[1]+1))\n",
        "    new_feature_matrix[:, :feature_matrix.shape[1]] = feature_matrix\n",
        "    new_feature_matrix[:, -1] = feature_matrix[:, 0] * feature_matrix[:, 1]\n",
        "    return new_feature_matrix"
      ]
    },
    {
      "cell_type": "code",
      "execution_count": null,
      "metadata": {
        "id": "0mqMrruk_Dxc"
      },
      "outputs": [],
      "source": [
        "transformed_train_x = my_transformation(train_x)"
      ]
    },
    {
      "cell_type": "code",
      "execution_count": null,
      "metadata": {
        "colab": {
          "base_uri": "https://localhost:8080/"
        },
        "id": "lkgrLGCe_Dxc",
        "outputId": "52777127-349a-46d8-b2b5-00d4cda63ab8"
      },
      "outputs": [
        {
          "output_type": "stream",
          "name": "stdout",
          "text": [
            "train mse =\t 0.09346\n",
            "validation mse = 0.08378\n"
          ]
        }
      ],
      "source": [
        "lr = Ridge()\n",
        "lr.fit(transformed_train_x, train_y)\n",
        "\n",
        "print(\n",
        "    f'train mse =\\t {mean_squared_error(lr.predict(transformed_train_x), train_y):.5f}',\n",
        "    f'validation mse = {mean_squared_error(lr.predict(my_transformation(valid_x)), valid_y):.5f}',\n",
        "    sep='\\n'\n",
        ")"
      ]
    },
    {
      "cell_type": "markdown",
      "metadata": {
        "id": "imM-gD6X_Dxc"
      },
      "source": [
        "Обращаем ваше внимание, что параметры линейной модели будут округляться до __четырех знаков после запятой__. Это не должно сильно повлиять на качество предсказаний:"
      ]
    },
    {
      "cell_type": "code",
      "execution_count": null,
      "metadata": {
        "id": "4OxT1KTO_Dxc"
      },
      "outputs": [],
      "source": [
        "original_predictions = lr.predict(transformed_train_x)\n",
        "rounded_predictions = transformed_train_x.dot(np.round(lr.coef_, 4)) + np.round(lr.intercept_, 4)\n",
        "\n",
        "\n",
        "assert np.allclose(original_predictions, rounded_predictions, atol=1e-3)"
      ]
    },
    {
      "cell_type": "markdown",
      "metadata": {
        "id": "nNVvn682_Dxc"
      },
      "source": [
        "Параметры вашей модели:"
      ]
    },
    {
      "cell_type": "code",
      "execution_count": null,
      "metadata": {
        "colab": {
          "base_uri": "https://localhost:8080/"
        },
        "id": "8NNO4nJg_Dxc",
        "outputId": "f43cf181-da51-4c33-e62d-500427cf149f"
      },
      "outputs": [
        {
          "output_type": "stream",
          "name": "stdout",
          "text": [
            "w = [0.0128, 0.4369, 0.0, 0.6155, 0.0801, 1.3864, 0.0, -0.2578]\n",
            "b = 1.5064\n"
          ]
        }
      ],
      "source": [
        "w_list = list(np.round(lr.coef_, 4))\n",
        "print(f'w = {list(np.round(lr.coef_, 4))}\\nb = {np.round(lr.intercept_, 4)}')"
      ]
    },
    {
      "cell_type": "markdown",
      "metadata": {
        "id": "_tMW1dcd_Dxc"
      },
      "source": [
        "Напоминаем, ваша модель не должна использовать более 15 параметров (14 весов плюс свободный член)."
      ]
    },
    {
      "cell_type": "code",
      "execution_count": null,
      "metadata": {
        "id": "LC_tPY9t_Dxc"
      },
      "outputs": [],
      "source": [
        "assert len(w_list) + 1 <= 15"
      ]
    },
    {
      "cell_type": "markdown",
      "metadata": {
        "id": "Q5x4-u3J_Dxc"
      },
      "source": [
        "##### Сдача второй части соревнования\n",
        "Для сдачи вам достаточно отправить функцию `my_transformation` и параметры вашей модели в контест в задачу №2. Пример посылки доступен ниже"
      ]
    },
    {
      "cell_type": "code",
      "execution_count": null,
      "metadata": {
        "id": "y7_7Eahh_Dxc"
      },
      "outputs": [],
      "source": [
        "# __________example_submission_start__________\n",
        "\n",
        "def my_transformation(feature_matrix: np.ndarray):\n",
        "    new_feature_matrix = np.zeros((feature_matrix.shape[0], feature_matrix.shape[1]+1))\n",
        "    new_feature_matrix[:, :feature_matrix.shape[1]] = feature_matrix\n",
        "    new_feature_matrix[:, -1] = feature_matrix[:, 0\n",
        "    ] * feature_matrix[:, 1]\n",
        "    return new_feature_matrix\n",
        "\n",
        "w_submission = [-0.0027, -0.2637, 0.0, -0.1134, -0.0165, -0.9329, 0.0, 0.1293]\n",
        "b_submission = 1.1312\n",
        "# __________example_submission_end__________"
      ]
    },
    {
      "cell_type": "markdown",
      "metadata": {
        "id": "7SReYwcb_Dxc"
      },
      "source": [
        "На этом задание завершено. Поздравляем!"
      ]
    },
    {
      "cell_type": "markdown",
      "source": [],
      "metadata": {
        "id": "qQtrbRbiBs6X"
      }
    },
    {
      "cell_type": "markdown",
      "source": [
        "### Идеи, заметки, hint-ы\n",
        "\n",
        "1. random_state - https://scikit-learn.ru/10-3-controlling-randomness/\n",
        "2. Графики для анализа фичей (вид зависимости таргета от фичей и их комбинаций) + корреляции признаков друг с другом - https://www.kaggle.com/code/prashant111/comprehensive-guide-on-feature-selection\n",
        "3.Нормализация/стандартизация данных - https://scikit-learn.org/stable/modules/generated/sklearn.preprocessing.StandardScaler.html без дата ликов + посмотреть на аномалии в таргете и фичах\n",
        "4. XGBoost - https://xgboost.readthedocs.io/en/stable/ + shap values - https://shap.readthedocs.io/en/latest/example_notebooks/overviews/An%20introduction%20to%20explainable%20AI%20with%20Shapley%20values.html\n",
        "для важности признаков и предпосылок\n",
        "5. Подумайте над методами оптимизации гиперпараметров помимо GridSearchCV\n",
        "6. Подумать на stacking-ом в пункте 1 (какие модельки взят?)\n",
        "7. Как отбирать топ фичей после генерации новых? точно не Brute-force - https://dataaspirant.com/stepwise-regression/"
      ],
      "metadata": {
        "id": "ndHKHkNAB2Kx"
      }
    },
    {
      "cell_type": "code",
      "source": [],
      "metadata": {
        "id": "y4aKi-Vzc6ar"
      },
      "execution_count": null,
      "outputs": []
    }
  ],
  "metadata": {
    "kernelspec": {
      "display_name": "Py3 Research",
      "language": "python",
      "name": "py3_research"
    },
    "language_info": {
      "codemirror_mode": {
        "name": "ipython",
        "version": 3
      },
      "file_extension": ".py",
      "mimetype": "text/x-python",
      "name": "python",
      "nbconvert_exporter": "python",
      "pygments_lexer": "ipython3",
      "version": "3.9.16"
    },
    "colab": {
      "provenance": []
    }
  },
  "nbformat": 4,
  "nbformat_minor": 0
}